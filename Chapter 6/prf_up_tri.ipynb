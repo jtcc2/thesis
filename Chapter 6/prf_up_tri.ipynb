{
 "cells": [
  {
   "cell_type": "code",
   "execution_count": 1,
   "metadata": {},
   "outputs": [
    {
     "data": {
      "text/plain": [
       "[                          1                           0                         1/2  (-p*B*C - 2*p*A)/(2*ln*lc)                           0                           0                           0                           0                           0                           0]\n",
       "[                          0                       ln/lc                        -p*A (4*p*A*C - 2*p*B)/(4*ln*lc)                           0                           0                           0                           0                           0                           0]\n",
       "[                          0                           0                      1/2*lc                 (-C)/(2*ln)                           0                           0                           0                           0                           0                           0]\n",
       "[                          0                           0                           0                    2/(4*ln)                           0                           0                           0                           0                           0                           0]"
      ]
     },
     "execution_count": 1,
     "metadata": {},
     "output_type": "execute_result"
    }
   ],
   "source": [
    "# Recall for this proof we assume a >= 0\n",
    "\n",
    "# Define a polynomial ring. Note all variables are integral.\n",
    "R.<p, ln, lc, A, B, C, delta, X, Y> = PolynomialRing(Rationals())\n",
    "QuatAlg.<i,j,k> = QuaternionAlgebra(-1, -p)\n",
    "\n",
    "# Basis of O using variables above, i.e. replacing \\ell^a with \\ell^n/\\ell^b, and \\ell^c with 1\n",
    "e0 = (1/2) + (1/(2*lc))*j + ((C + delta*ln*lc)/(2*lc))*k\n",
    "e1 = (lc/(2*ln))*i + (A/ln)*j + (B/(2*ln))*k \n",
    "e2 = (1/lc)*j + (C/lc)*k \n",
    "e3 = ln*k  \n",
    "\n",
    "# These are integral by earlier results\n",
    "lambda1 = (2*A + B*C + B*delta*ln*lc)/(2*ln*lc)\n",
    "lambda2 = (p*B^2 + lc^2 + 4*p*A^2)/(4*ln^2)\n",
    "lambda3 = (C^2 + 1 - lc^2*(delta+1))/(4*lc^2)\n",
    "lambda4 = (B - 2*A*C - lc^2)/(2*lc^2)\n",
    "lambda6 = (ln - lc)/(2*lc)\n",
    "lambda7 = (ln + 1)/2\n",
    "omega1 = (p+1)/4\n",
    "omega2 = (B+1)/2\n",
    "omega3 = (delta + C)/2\n",
    "\n",
    "# We construct the basis matrix from   e0, e1, e2, e3  as defined in the main theorem.\n",
    "# We also add columns for 1, \\ell^n i, e1*e2, e1*e3, e2*e3, which are obviously in O so doesn't change the order represented by the matrix\n",
    "# We also include a column of 0s which we'll use during the reduction\n",
    "M = column_matrix([[ei[r] for r in range(0, 4)] for ei in [QuatAlg(1), ln*i, e0, e1, e2, e3, e1*e2, e1*e3, e2*e3, QuatAlg(0)]])\n",
    "\n",
    "# First column operation - note columns are indexed from 0\n",
    "#   Replace column 2  with  column 2  +  an integral multiple of column 6\n",
    "#   The scalar is clearly integral as all variables used are integral and there is only addition and multiplication\n",
    "M.add_multiple_of_column(2, 6, -(2*lambda6 + 1)*(ln*lc*delta + C))\n",
    "\n",
    "# We now apply further column operations\n",
    "M.add_multiple_of_column(3, 6, -B)\n",
    "M.add_multiple_of_column(4, 6, -2*C*(2*lambda6 + 1))\n",
    "M.add_multiple_of_column(5, 6, -2*ln^2)\n",
    "M.swap_columns(6, 7) # Swap two columns, doesn't change the order defined by the matrix\n",
    "M.add_multiple_of_column(5, 6, 2*C*(2*lambda6 + 1))\n",
    "M.add_multiple_of_column(4, 6, 8*lambda3 + 2*delta + 2)\n",
    "M.add_multiple_of_column(3, 6, 2*lambda1 - B*delta)\n",
    "M.add_multiple_of_column(2, 6, lambda3*4 + delta + 1 + (2*lambda6 + 1)*C*delta)\n",
    "\n",
    "# Now we introduce integer variables X and Y\n",
    "M.add_multiple_of_column(9, 1, X)\n",
    "M.add_multiple_of_column(9, 8, Y)\n",
    "\n",
    "# We define X and Y to be the result of the extended Euclidean algorithm applied to \\ell^n and p \\ell^{n-c}\n",
    "# Clearly the gcd of these is \\ell^{n-c}\n",
    "# Hence we have the relation:    X*ln + Y*p*ln/lc = ln/lc\n",
    "\n",
    "# Rearranging we substitute in X = 1/lc - Y*p/lc\n",
    "M = matrix([[e.subs(X=(1/lc - Y*p/lc)) for e in r] for r in M.rows()])\n",
    "M.swap_columns(7, 9)\n",
    "M.swap_columns(6, 8)\n",
    "\n",
    "# This next operation eliminates occurrences of X and Y, so we don't need to know their values\n",
    "M.add_multiple_of_column(7, 0, p*(2*lambda6 + 1)*C*Y)\n",
    "\n",
    "# Continue with matrix reduction\n",
    "M.add_multiple_of_column(6, 7, -p)\n",
    "M.add_multiple_of_column(6, 0, p*(2*lambda6 + 1)*C)\n",
    "M.add_multiple_of_column(5, 7, -p*B)\n",
    "M.add_multiple_of_column(5, 0, -2*p*A*(2*lambda6 + 1))\n",
    "M.add_multiple_of_column(4, 7, -p*(2*lambda1 - B*delta))\n",
    "M.add_multiple_of_column(4, 0, p*(2*lambda4 + 1))\n",
    "M.add_multiple_of_column(3, 7, -2*lambda2)\n",
    "M.add_multiple_of_column(2, 7, -p*lambda1)\n",
    "M.add_multiple_of_column(2, 0, -p*((2*lambda6 + 1)*A*delta - lambda4) - (-2*omega1 + 1))\n",
    "M.add_multiple_of_column(1, 7, -lc)\n",
    "M.swap_columns(1, 7)\n",
    "M.swap_columns(2, 8)\n",
    "M.swap_columns(3, 9)\n",
    "M.rescale_col(2, -1) # We can scale a column by -1, which means negating a basis vector, which is allowed\n",
    "M.add_multiple_of_column(2, 0, -4*omega1*omega2 + 2*omega1 + omega2)\n",
    "\n",
    "# The resulting matrix is as given in the corollary statement, followed by columns of zeroes\n",
    "M"
   ]
  }
 ],
 "metadata": {
  "kernelspec": {
   "display_name": "SageMath 10.3.beta8",
   "language": "sage",
   "name": "sagemath"
  },
  "language_info": {
   "codemirror_mode": {
    "name": "ipython",
    "version": 3
   },
   "file_extension": ".py",
   "mimetype": "text/x-python",
   "name": "python",
   "nbconvert_exporter": "python",
   "pygments_lexer": "ipython3",
   "version": "3.10.6"
  }
 },
 "nbformat": 4,
 "nbformat_minor": 2
}
