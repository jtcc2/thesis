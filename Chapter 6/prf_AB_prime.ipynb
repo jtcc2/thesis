{
 "cells": [
  {
   "cell_type": "code",
   "execution_count": 1,
   "metadata": {},
   "outputs": [],
   "source": [
    "R.<l,la,lb,ln,A,B,C,delta, k1,k2> = PolynomialRing(QQ) # where e.g. la represents \\ell^a\n",
    "\n",
    "# We express c in terms of n, a, b for simplicity\n",
    "lc = ln/(la*lb)\n",
    "\n",
    "# From the Lemma statement\n",
    "Aprime = A + k1*ln*la\n",
    "Bprime = B + (k1*2*C*lb/lc) + (k2*2*lb^2)\n",
    "\n",
    "# basis matrix of O(A,B,C,a,b,c)\n",
    "MO_AB = column_matrix([\n",
    "    [ 1/2,          0,   la/2, (C+delta*lb*lc)/(2*lc) ],\n",
    "    [ 0,  1/(2*la*lb), A/(ln),               B/(2*lb) ],\n",
    "    [ 0,            0,     la,                   C/lc ],\n",
    "    [ 0,            0,      0,                     lb ]\n",
    "])\n",
    "\n",
    "# basis matrix of I(A,B,C,a,b,c)\n",
    "MI_AB = column_matrix([\n",
    "    [1/2, -C/2, (B*la*lc - 2*A*C)/(2*lc), -(2*A+B*C*la*lc)/(2*lc)],\n",
    "    [0, ln/(2*la*lb), A, (B*la*lc)/2],\n",
    "    [0,0,la*lb,C*la*lb],\n",
    "    [0,0,0,ln]\n",
    "])\n",
    "\n",
    "# basis matrix of O(A',B',C,a,b,c)\n",
    "MO_ABprime = column_matrix([\n",
    "    [ 1/2,          0,   la/2, (C+delta*lb*lc)/(2*lc) ],\n",
    "    [ 0,  1/(2*la*lb), Aprime/(ln),               Bprime/(2*lb) ],\n",
    "    [ 0,            0,     la,                   C/lc ],\n",
    "    [ 0,            0,      0,                     lb ]\n",
    "])\n",
    "\n",
    "# basis matrix of I(A',B',C,a,b,c)\n",
    "MI_ABprime = column_matrix([\n",
    "    [1/2, -C/2, (Bprime*la*lc - 2*Aprime*C)/(2*lc), -(2*Aprime+Bprime*C*la*lc)/(2*lc)],\n",
    "    [0, ln/(2*la*lb), Aprime, (Bprime*la*lc)/2],\n",
    "    [0,0,la*lb,C*la*lb],\n",
    "    [0,0,0,ln]\n",
    "])\n",
    "\n",
    "\n",
    "# Verification of the unimodular operations given in the proof\n",
    "#    Note columns indices are 0-based\n",
    "\n",
    "MO_AB.add_multiple_of_column(1, 2, k1) # Adding k1 times column 3 to column 1\n",
    "MO_AB.add_multiple_of_column(1, 3, k2)\n",
    "assert(MO_AB == MO_ABprime)\n",
    "\n",
    "MI_AB.add_multiple_of_column(1, 2, k1*ln/lb)\n",
    "MI_AB.add_multiple_of_column(1, 3, k1*C*((1-la*lc)/lc) + k2*lb)\n",
    "MI_AB.add_multiple_of_column(0, 2, k1*C*((1-la*lc)/lc) + k2*lb)\n",
    "MI_AB.add_multiple_of_column(0, 3, ((C^2+1)/(lc^2))*k1*(la*lc-2) - 2*k1*(la*lc-1)/(lc^2) - (2*lb*C*k2)/(lc))\n",
    "assert(MI_AB == MI_ABprime)"
   ]
  }
 ],
 "metadata": {
  "kernelspec": {
   "display_name": "SageMath 10.3.beta8",
   "language": "sage",
   "name": "sagemath"
  },
  "language_info": {
   "codemirror_mode": {
    "name": "ipython",
    "version": 3
   },
   "file_extension": ".py",
   "mimetype": "text/x-python",
   "name": "python",
   "nbconvert_exporter": "python",
   "pygments_lexer": "ipython3",
   "version": "3.10.6"
  }
 },
 "nbformat": 4,
 "nbformat_minor": 2
}
