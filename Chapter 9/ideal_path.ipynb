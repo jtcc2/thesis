{
 "cells": [
  {
   "cell_type": "markdown",
   "metadata": {},
   "source": [
    "This file contains the code for solving the quaternion $\\ell$ isogeny problem by navigating isogeny volcanoes using solutions to the quaternion embedding problem. This has only been tested in the case $p\\equiv 3 \\mod 4$."
   ]
  },
  {
   "cell_type": "code",
   "execution_count": 124,
   "metadata": {},
   "outputs": [],
   "source": [
    "load(\"utils.sage\")\n",
    "\n",
    "def quaternion_ell_ideal_path(O_start, O_target, ell, m=None, randomize_qep=False, debug=False):\n",
    "    \"\"\"\n",
    "    Solves the ell isogeny path problem from certain curves, for small prime characteristic (i.e. < 2^50).\n",
    "    `O_start` - Starting maximal order, where QEP is solved for large disc orders, so it must have small denominators.\n",
    "                E.g. O1728 when p = 3 mod 4 is an optimal choice\n",
    "    `O_target` - The maximal order to walk to\n",
    "    `ell` - The prime to find an ell^n ideal\n",
    "    `randomize_qep` - Should we use the randomized algorithm to solve the quaternion embedding problem. Works better for larger primes $p$ with fast factorization is unrealistic.\n",
    "    `m` - Set to give an upper bound on path length as ell^m.\n",
    "            Default is roughly  m ~ p^(1/6)\n",
    "            Increasing can reduce number of iterations, but take longer to solve quadratic forms in each iteration.\n",
    "            Decreasing too much can make it impossible to solve, or take very long time.\n",
    "    \"\"\"\n",
    "    QuatAlg = O_target.quaternion_algebra()\n",
    "    Zell = Integers(ell)\n",
    "    \n",
    "    ### STEP 1: Do short ell**... walk from target order until find order with \"nice\" quadratic embedding\n",
    "\n",
    "    for STEP1_I in enum_cyclic_l_ideals(O_target, ell):\n",
    "        O_target_new = STEP1_I.right_order()\n",
    "        # Get quadratic order from smallest element\n",
    "        smallest_elt = O_target_new.unit_ideal().reduced_basis()[1]\n",
    "        d = smallest_elt.reduced_norm()\n",
    "        t = smallest_elt.reduced_trace()\n",
    "        Ofrak, g = quadratic_order_from_norm_trace(d, t, generator=True)\n",
    "        # Check ell split in O\n",
    "        K_disc = Ofrak.number_field().disc()\n",
    "        if ell != 2:\n",
    "            if mod(K_disc, ell) == 0: continue\n",
    "            if not Zell(K_disc).is_square(): continue\n",
    "        else:\n",
    "            if mod(K_disc, 8) != 1: continue\n",
    "        if debug:\n",
    "            print(\"Found starting order with ell split\")\n",
    "\n",
    "        ### STEP 2: Walk to top of the oriented isogeny volcano with respect to the \"nice\" quadratic embedding, giving Oright\n",
    "\n",
    "        # Solve QEP on O_start to find embedding \n",
    "        n = -1\n",
    "        while True: # For random case could make a good estimate for n, change to look for primitive embeddings, and remove loop\n",
    "            n += 1\n",
    "            suborder_t = (ell**n) * t\n",
    "            suborder_d = (ell**(2*n)) * d\n",
    "            elt = None\n",
    "            if randomize_qep:\n",
    "                sln = find_element_defining_embedding_randomized(O_start, suborder_d, suborder_t, filter_func=None, debug=False)\n",
    "                if len(sln) == 1:\n",
    "                    elt = sln\n",
    "            else:\n",
    "                elt = find_element_defining_embedding(O_start, suborder_d, suborder_t)\n",
    "            if elt != None:\n",
    "                break\n",
    "        # Walk to top\n",
    "        if debug:\n",
    "            print(\"Walked \" + str(n) + \" steps to rim\")\n",
    "        STEP2_I = O_start*elt + O_start*(ell**n)\n",
    "        Oright = STEP2_I.right_order()\n",
    "        Oright_origin = Oright\n",
    "\n",
    "        ### STEP 3: Get shortest connecting ideal from Oright to O. Step along any ell**... factor of the ideal. Update Oright to be the right order of this new ideal\n",
    "\n",
    "        # Get remaining ideal\n",
    "        Ia, gamma2 = small_equivalent_ideal(connecting_ideal(Oright, O_target_new), True)\n",
    "        N = Ia.norm()\n",
    "        # Have to remove norm ell parts of this\n",
    "        exp_removed = 0\n",
    "        STEP3_I = Oright.unit_ideal()\n",
    "        while mod(N, ell) == 0:\n",
    "            N = N / ell\n",
    "            exp_removed += 1\n",
    "        if exp_removed > 0:\n",
    "            STEP3_I = Ia + Oright*(ell**exp_removed)\n",
    "            Oright = STEP3_I.right_order()\n",
    "            Ia = small_equivalent_ideal(connecting_ideal(Oright, O_target_new)) # Could do something cleverer here, but its good enough\n",
    "        if N == 1:\n",
    "            if debug:\n",
    "                print(\"FINISHED EARLY\")\n",
    "                print(\"\")\n",
    "            complete_ideal = STEP2_I * STEP3_I * (gamma2.inverse() * STEP1_I.conjugate() * gamma2)\n",
    "            # Make solution cyclic\n",
    "            complete_ideal = make_ell_cyclic(complete_ideal, ell)\n",
    "            return complete_ideal\n",
    "\n",
    "        ### STEP 4: For remaining ideal from Oright to O, find corresponding quadratic ideal, find equivalent horizontal norm ell**... ideal, and convert it back to quaternion ideal\n",
    "\n",
    "        # Quaternion Ideal to Quadratic Ideal\n",
    "        elt1 = elt / (ell**n)\n",
    "        bs = QuaternionLattice(Ia).intersection(QuaternionLattice([QuatAlg(1), elt1])).upper_hnf_basis()\n",
    "        gen1 = bs[0]\n",
    "        gen2 = bs[1]\n",
    "        #if Ia != Oright*gen1 + Oright*gen2:\n",
    "        #    print(\"Issue getting quadratic ideal. Restarting.\")\n",
    "        #    break\n",
    "        k1 = ZZ(gen2[1] / elt1[1])\n",
    "        k2 = ZZ(gen2 - elt1*k1)\n",
    "        k3 = ZZ(gen1)\n",
    "        fraka = Ofrak.ideal([k3, k2 + k1*g]) # This is the quadratic ideal\n",
    "        # Getting norm form of quadratic ideal\n",
    "        R.<x0,x1> = PolynomialRing(QQ)\n",
    "        nx = (x0*k3 + x1*(k2 + k1*g))\n",
    "        nxbar = (x0*k3 + x1*(k2 + k1*g.conjugate()))\n",
    "        fraka_norm_form = QuadraticForm(nx * nxbar)\n",
    "        a, b, c = fraka_norm_form.coefficients()\n",
    "        fraka_norm_form_bin = BinaryQF(a,b,c)\n",
    "        # Attempt to solve norm form finding N ell**m solution - by guessing an m for which there should be a solution\n",
    "        #    Previously used a loop over m here, but it seems slower\n",
    "        #    Size of m should be roughly sqrt of size of disc of order, as that is expected class group size. And maybe 4th root as that is expected size of order of I\n",
    "        if m == None:\n",
    "            m = ceil((Ofrak.discriminant()**(1/4)).abs())\n",
    "        sln = fraka_norm_form_bin.solve_integer(N*(ell**m))\n",
    "        if sln != None:\n",
    "            # From solution find equivalent quadratic ideal of norm ell**m\n",
    "            x0, x1 = sln\n",
    "            beta = x0*k3 + x1*(k2 + k1*g)\n",
    "            betaconj = beta.conjugate()\n",
    "            # The norm ell**m quadratic ideal is then:   frakJ = Ofrak.ideal([betaconj, ell**m])\n",
    "            # Map quadratic ideal generator betaconj to quaternion, by first writing  betaconj = x1 + x2*g , then quaternion is  x1 + x2*elt1\n",
    "            x2 = ZZ(betaconj[1] / g[1])\n",
    "            x1 = ZZ(betaconj - x2*g)\n",
    "            alpha = QuatAlg(x1 + x2*elt1)\n",
    "            STEP4_I = Oright*alpha + Oright*(ell**m)    # Norm  ell**m  quaternion ideal\n",
    "            complete_ideal = STEP2_I * STEP3_I * STEP4_I * ((gamma2*alpha/N).inverse() * STEP1_I.conjugate() * (gamma2*alpha/N))\n",
    "            # Make solution cyclic\n",
    "            complete_ideal = make_ell_cyclic(complete_ideal, ell)\n",
    "            return complete_ideal\n",
    "        if debug:\n",
    "            print(\"No solutions found.\")\n",
    "            print(\"\")"
   ]
  },
  {
   "cell_type": "code",
   "execution_count": 125,
   "metadata": {},
   "outputs": [],
   "source": [
    "norms = []"
   ]
  },
  {
   "cell_type": "code",
   "execution_count": 171,
   "metadata": {},
   "outputs": [
    {
     "name": "stdout",
     "output_type": "stream",
     "text": [
      "Found starting order with ell split\n",
      "Walked 12 steps to rim\n",
      "No solutions found.\n",
      "\n",
      "Found starting order with ell split\n",
      "Walked 14 steps to rim\n"
     ]
    },
    {
     "name": "stderr",
     "output_type": "stream",
     "text": [
      "<string>:325: DeprecationWarning: is_equivalent is deprecated, please use is_left_equivalent or is_right_equivalent accordingly instead\n",
      "See https://github.com/sagemath/sage/issues/37100 for details.\n"
     ]
    }
   ],
   "source": [
    "p = (2**30).next_prime()\n",
    "assert(mod(p, 4) == 3)\n",
    "\n",
    "QuatAlg = QuaternionAlgebra(p)\n",
    "O_start = QuatAlg.maximal_order()\n",
    "O_target = random_maximal_order(QuatAlg)\n",
    "\n",
    "ell = 3\n",
    "\n",
    "I = quaternion_ell_ideal_path(O_start, O_target, ell, m=None, debug=True)\n",
    "\n",
    "# Check left and right orders correct\n",
    "assert(I.left_order() == O_start)\n",
    "assert(check_orders_conjugate(I.right_order(), O_target))\n",
    "# Check ideal norm is power of ell\n",
    "assert(is_power_of_ell(I.norm(), ell))\n",
    "# check ideal is integral\n",
    "for b in I.basis():\n",
    "    assert(b in O_start)\n",
    "# check ideal is cyclic\n",
    "assert(is_cyclic(I))\n",
    "\n",
    "norms.append(RR(log(I.norm(), p)))"
   ]
  },
  {
   "cell_type": "markdown",
   "metadata": {},
   "source": [
    "After running this several times for $30$-bit primes we get the following array.\n",
    "Each entry $e$ corresponds to an execution, and a resulting ideal of norm $\\ell^{*} = p^e$. For the average case the ideal seems to be of norm $\\sim p^{1.47}$ (where we take the average of the exponents, rather than norms, to give a more accurate meaning of 'size')"
   ]
  },
  {
   "cell_type": "code",
   "execution_count": 177,
   "metadata": {},
   "outputs": [
    {
     "data": {
      "text/plain": [
       "[1.16230583370601,\n",
       " 2.64160416751366,\n",
       " 1.47929833380765,\n",
       " 1.74345875055902,\n",
       " 2.11328333401093,\n",
       " 1.05664166700547,\n",
       " 1.10947375035574,\n",
       " 2.74726833421421,\n",
       " 0.739649166903826,\n",
       " 0.845313333604373,\n",
       " 1.00380958365519,\n",
       " 1.05664166700547,\n",
       " 0.633985000203279,\n",
       " 0.898145416954646,\n",
       " 1.26797000040656,\n",
       " 0.950977500304919,\n",
       " 1.53213041715793,\n",
       " 2.27177958406175,\n",
       " 1.74345875055902,\n",
       " 1.74345875055902,\n",
       " 1.47929833380765,\n",
       " 2.11328333401093,\n",
       " 1.21513791705629,\n",
       " 1.05664166700547,\n",
       " 1.74345875055902,\n",
       " 2.21894750071148,\n",
       " 1.37363416710711,\n",
       " 1.69062666720875,\n",
       " 1.37363416710711,\n",
       " 1.00380958365519]"
      ]
     },
     "execution_count": 177,
     "metadata": {},
     "output_type": "execute_result"
    }
   ],
   "source": [
    "norms"
   ]
  },
  {
   "cell_type": "code",
   "execution_count": 176,
   "metadata": {},
   "outputs": [
    {
     "data": {
      "text/plain": [
       "1.46697084769259"
      ]
     },
     "execution_count": 176,
     "metadata": {},
     "output_type": "execute_result"
    }
   ],
   "source": [
    "sum(norms)/len(norms)"
   ]
  },
  {
   "cell_type": "markdown",
   "metadata": {},
   "source": [
    "We also ran the code $30$ times for a $50$-bit prime ..."
   ]
  },
  {
   "cell_type": "code",
   "execution_count": 63,
   "metadata": {},
   "outputs": [
    {
     "data": {
      "text/plain": [
       "[3.04312800138462,\n",
       " 8.97088775408173,\n",
       " 18.0685725082212,\n",
       " 4.91338375223558,\n",
       " 1.14117300051923,\n",
       " 16.1349182573413,\n",
       " 4.27939875194711,\n",
       " 16.5787077575433,\n",
       " 19.7803320090000,\n",
       " 11.7287225053365,\n",
       " 9.98526375454327,\n",
       " 1.10947375050481,\n",
       " 5.10357925232212,\n",
       " 13.9476700063462,\n",
       " 10.6509480048462,\n",
       " 4.02580475183173,\n",
       " 18.7025575085096,\n",
       " 20.7630087594471,\n",
       " 14.9937452568221,\n",
       " 22.8868585104135,\n",
       " 1.17287225053365,\n",
       " 10.8411435049327,\n",
       " 21.2384975096635,\n",
       " 7.70291775350481,\n",
       " 5.26207550239423,\n",
       " 5.45227100248077,\n",
       " 2.82123325128365,\n",
       " 17.8149785081058,\n",
       " 14.1695647564471,\n",
       " 13.0917902559567]"
      ]
     },
     "execution_count": 63,
     "metadata": {},
     "output_type": "execute_result"
    }
   ],
   "source": [
    "norms"
   ]
  },
  {
   "cell_type": "code",
   "execution_count": 65,
   "metadata": {},
   "outputs": [
    {
     "data": {
      "text/plain": [
       "10.8791826049500"
      ]
     },
     "execution_count": 65,
     "metadata": {},
     "output_type": "execute_result"
    }
   ],
   "source": [
    "sum(norms)/len(norms)"
   ]
  }
 ],
 "metadata": {
  "kernelspec": {
   "display_name": "SageMath 10.3.beta8",
   "language": "sage",
   "name": "sagemath"
  },
  "language_info": {
   "codemirror_mode": {
    "name": "ipython",
    "version": 3
   },
   "file_extension": ".py",
   "mimetype": "text/x-python",
   "name": "python",
   "nbconvert_exporter": "python",
   "pygments_lexer": "ipython3",
   "version": "3.10.6"
  }
 },
 "nbformat": 4,
 "nbformat_minor": 2
}
