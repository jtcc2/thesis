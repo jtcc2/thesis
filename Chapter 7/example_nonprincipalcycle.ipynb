{
 "cells": [
  {
   "cell_type": "code",
   "execution_count": 31,
   "id": "293ddc32-1fe5-4ecc-b4d2-310a6b927652",
   "metadata": {},
   "outputs": [
    {
     "name": "stdout",
     "output_type": "stream",
     "text": [
      "E0: Elliptic Curve defined by y^2 = x^3 + 2236*x + 1886 over Finite Field in s of size 2689^2\n",
      "E1: Elliptic Curve defined by y^2 = x^3 + 732*x + 2243 over Finite Field in s of size 2689^2\n",
      "E2: Elliptic Curve defined by y^2 = x^3 + 750*x + 791 over Finite Field in s of size 2689^2\n",
      "E3: Elliptic Curve defined by y^2 = x^3 + 1996*x + 1015 over Finite Field in s of size 2689^2\n"
     ]
    }
   ],
   "source": [
    "# Computed using SageMath 10.4\n",
    "# Set up the field\n",
    "p = 2689\n",
    "Fp2.<s> = GF(p^2,modulus=x^2 + 2684*x + 19)\n",
    "Fp = Fp2.prime_subfield()\n",
    "\n",
    "# Define the elliptic curves relevant to this computation\n",
    "E0 = EllipticCurve(Fp2,[2236,1886])\n",
    "print(\"E0:\",E0)\n",
    "E1 = EllipticCurve(Fp2,[732,2243])\n",
    "print(\"E1:\", E1)\n",
    "E2 = EllipticCurve(Fp2,[750,791])\n",
    "print(\"E2:\",E2)\n",
    "E3 = EllipticCurve(Fp2,[1996,1015])\n",
    "print(\"E3:\",E3)"
   ]
  },
  {
   "cell_type": "code",
   "execution_count": 32,
   "id": "0ef7e0ba-85b2-4b6f-a441-b873782fcf49",
   "metadata": {},
   "outputs": [
    {
     "data": {
      "text/plain": [
       "True"
      ]
     },
     "execution_count": 32,
     "metadata": {},
     "output_type": "execute_result"
    }
   ],
   "source": [
    "# Define the first isogeny, and check the codomain\n",
    "phi_2_1 = E0.isogeny(E0.lift_x(1600))\n",
    "phi_2_1_hat = phi_2_1.dual()\n",
    "phi_2_1.codomain() == E1"
   ]
  },
  {
   "cell_type": "code",
   "execution_count": 33,
   "id": "fe43141f-f135-4551-86d0-002f792874a6",
   "metadata": {},
   "outputs": [
    {
     "data": {
      "text/plain": [
       "True"
      ]
     },
     "execution_count": 33,
     "metadata": {},
     "output_type": "execute_result"
    }
   ],
   "source": [
    "# Define the second isogeny, and check the codomain\n",
    "phi_5 = E1.isogeny(E1(719, 655*s + 2396))\n",
    "phi_5.codomain() == E2"
   ]
  },
  {
   "cell_type": "code",
   "execution_count": 34,
   "id": "d55aa0b7-371e-45a6-bf01-cd824377c9ac",
   "metadata": {},
   "outputs": [
    {
     "data": {
      "text/plain": [
       "True"
      ]
     },
     "execution_count": 34,
     "metadata": {},
     "output_type": "execute_result"
    }
   ],
   "source": [
    "# Define the third isogeny, and check the codomain\n",
    "phi_2_2 = E2.isogeny(E2.lift_x(1377))\n",
    "phi_2_2.codomain() == E3"
   ]
  },
  {
   "cell_type": "code",
   "execution_count": 35,
   "id": "bed9d37b-177d-467b-96c6-2ea138b11266",
   "metadata": {},
   "outputs": [
    {
     "data": {
      "text/plain": [
       "True"
      ]
     },
     "execution_count": 35,
     "metadata": {},
     "output_type": "execute_result"
    }
   ],
   "source": [
    "# Define the fourth isogeny, and check the codomain\n",
    "for phi in E3.isogenies_prime_degree(13):\n",
    "    if phi.codomain().is_isomorphic(E0):\n",
    "        phi_13 = phi.post_compose(phi.codomain().isomorphism_to(E0))\n",
    "phi_13.codomain() == E0"
   ]
  },
  {
   "cell_type": "code",
   "execution_count": 36,
   "id": "fa8048b5-4bcb-43c8-98fc-c54c3732fe88",
   "metadata": {},
   "outputs": [],
   "source": [
    "# Compose the isogenies to create an endomorphism of E0\n",
    "eta = phi_2_1.post_compose(phi_5.post_compose(phi_2_2.post_compose(phi_13)))"
   ]
  },
  {
   "cell_type": "code",
   "execution_count": 37,
   "id": "a5f15f8f-d0fc-42d6-9224-8506ba02e137",
   "metadata": {},
   "outputs": [
    {
     "data": {
      "text/plain": [
       "((0 : 1 : 0), (0 : 1 : 0), (0 : 1 : 0))"
      ]
     },
     "execution_count": 37,
     "metadata": {},
     "output_type": "execute_result"
    }
   ],
   "source": [
    "# This endomorphism eta contains the scalar factor [2], \n",
    "# which we check by evaluating eta(E[2]):\n",
    "P,Q = E0.torsion_basis(2)\n",
    "eta(P),eta(Q),eta(P+Q)"
   ]
  },
  {
   "cell_type": "code",
   "execution_count": 49,
   "id": "25d5c730-52e2-4922-87e1-9652fe0f101a",
   "metadata": {},
   "outputs": [
    {
     "data": {
      "text/plain": [
       "True"
      ]
     },
     "execution_count": 49,
     "metadata": {},
     "output_type": "execute_result"
    }
   ],
   "source": [
    "# In the refactoring step, we need to swap phi_5 and phi_2_2.\n",
    "# To accomplish this, we create two new isogenies:\n",
    "psi_2_2 = E1.isogeny(E1.lift_x(phi_2_1.dual().kernel_polynomial().roots(multiplicities=False)[0]))\n",
    "psi_2_2 = psi_2_2.post_compose(psi_2_2.codomain().isomorphism_to(E0))\n",
    "psi_2_2.codomain() == E0"
   ]
  },
  {
   "cell_type": "code",
   "execution_count": 53,
   "id": "51294e3c-7c47-40b0-9cd8-6392dedf8352",
   "metadata": {},
   "outputs": [
    {
     "data": {
      "text/plain": [
       "True"
      ]
     },
     "execution_count": 53,
     "metadata": {},
     "output_type": "execute_result"
    }
   ],
   "source": [
    "psi_5 = E0.isogeny(psi_2_2(E1.lift_x(phi_5.kernel_polynomial().roots(multiplicities=False)[0])))\n",
    "psi_5 = psi_5.post_compose(psi_5.codomain().isomorphism_to(E3))\n",
    "psi_5.codomain() == E3"
   ]
  },
  {
   "cell_type": "code",
   "execution_count": 57,
   "id": "48172e94-a1e5-4d6f-8f78-af5710d3be73",
   "metadata": {},
   "outputs": [
    {
     "name": "stdout",
     "output_type": "stream",
     "text": [
      "True\n"
     ]
    }
   ],
   "source": [
    "# Check that there is now backtracking in the path:\n",
    "print(phi_2_1.dual() == -1*psi_2_2 or phi_2_1.dual() == psi_2_2)"
   ]
  },
  {
   "cell_type": "code",
   "execution_count": null,
   "id": "6cacb0c6-c988-44a0-8fc2-04f5e0b51010",
   "metadata": {},
   "outputs": [],
   "source": []
  }
 ],
 "metadata": {
  "kernelspec": {
   "display_name": "SageMath 10.4",
   "language": "sage",
   "name": "sagemath-10.4"
  },
  "language_info": {
   "codemirror_mode": {
    "name": "ipython",
    "version": 3
   },
   "file_extension": ".py",
   "mimetype": "text/x-python",
   "name": "python",
   "nbconvert_exporter": "python",
   "pygments_lexer": "ipython3",
   "version": "3.12.4"
  }
 },
 "nbformat": 4,
 "nbformat_minor": 5
}
