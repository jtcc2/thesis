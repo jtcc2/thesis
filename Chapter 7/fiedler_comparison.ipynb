{
 "cells": [
  {
   "cell_type": "markdown",
   "metadata": {},
   "source": [
    "Code for generating the neighbour and greedy neighbour orderings"
   ]
  },
  {
   "cell_type": "code",
   "execution_count": 5,
   "metadata": {},
   "outputs": [],
   "source": [
    "load(\"utils.sage\")\n",
    "\n",
    "def get_neighbour_ordering(G, start_set):\n",
    "    ordered_vertices = copy(start_set)\n",
    "    left_to_add_neighbors = copy(start_set)\n",
    "    while len(ordered_vertices) < len(G.vertices()):\n",
    "        expand_vertex = left_to_add_neighbors[0]\n",
    "        left_to_add_neighbors.remove(expand_vertex)\n",
    "        for n in G.neighbors(expand_vertex):\n",
    "            if n not in ordered_vertices:\n",
    "                ordered_vertices.append(n)\n",
    "                left_to_add_neighbors.append(n)\n",
    "    return ordered_vertices\n",
    "\n",
    "def get_greedy_ordering(G, start_set):\n",
    "\n",
    "    def phi(G, C):\n",
    "        C_comp = vertex_complement(G, C)\n",
    "        C_expansion = edge_expansion(G, C)\n",
    "        C_comp_expansion = edge_expansion(G, C_comp)\n",
    "        return max(C_expansion, C_comp_expansion)\n",
    "\n",
    "    ordered_vertices = copy(start_set)\n",
    "    cut_neighbors = []\n",
    "    for v in ordered_vertices:\n",
    "        for n in G.neighbors(v):\n",
    "            if n not in cut_neighbors:\n",
    "                cut_neighbors.append(n)\n",
    "    while len(ordered_vertices) < len(G.vertices()) - 1:\n",
    "        # iterate over cut_neighbors and add one which gives smallest edge expansion\n",
    "        minnum = 2\n",
    "        next_neighbor = None\n",
    "        for neighbor in cut_neighbors:\n",
    "            cut = copy(ordered_vertices)\n",
    "            cut.append(neighbor)\n",
    "            expansion = phi(G, cut)\n",
    "            if expansion < minnum:\n",
    "                minnum = expansion\n",
    "                next_neighbor = neighbor    \n",
    "        # add it to ordered_vertices\n",
    "        ordered_vertices.append(next_neighbor)\n",
    "        # add its neighbors to cut_neighbors, and remove it from cut_neighbors\n",
    "        cut_neighbors.remove(next_neighbor)\n",
    "        for n in G.neighbors(next_neighbor):\n",
    "            if n not in cut_neighbors:\n",
    "                if n not in ordered_vertices:\n",
    "                    cut_neighbors.append(n)\n",
    "    # Add last vertex\n",
    "    for v in G.vertices():\n",
    "        if v not in ordered_vertices:\n",
    "            ordered_vertices.append(v)\n",
    "            break\n",
    "    return ordered_vertices"
   ]
  },
  {
   "cell_type": "markdown",
   "metadata": {},
   "source": [
    "We now give an example of using the sweep cut based fiedlers algorithm for these orderings."
   ]
  },
  {
   "cell_type": "code",
   "execution_count": 19,
   "metadata": {},
   "outputs": [
    {
     "name": "stdout",
     "output_type": "stream",
     "text": [
      "Spectral ordering. Expansion: 0.46218487394957986     Cut size: 17\n",
      "Neighbour ordering. Expansion: 0.44537815126050423     Cut size: 17\n",
      "Greedy ordering. Expansion: 0.2773109243697479      Cut size: 17\n"
     ]
    }
   ],
   "source": [
    "load(\"utils.sage\")\n",
    "\n",
    "# Pick parameters\n",
    "p = 401\n",
    "L = [2,3]\n",
    "\n",
    "# Get L isogeny graph\n",
    "G = get_L_graph(p, L)\n",
    "\n",
    "# Get a random staring vertex for neighbour and greedy neighbour orderings\n",
    "start_vertex = G.vertices()[randrange(0, len(G.vertices()))]\n",
    "\n",
    "# Get different orderings\n",
    "fiedlers_ordering = get_spectral_ordering(G, use_numpy_over_sage=False)\n",
    "neighbour_ordering = get_neighbour_ordering(G, [start_vertex])\n",
    "greedy_ordering = get_greedy_ordering(G, [start_vertex])\n",
    "\n",
    "# Apply the algorithm to find cut with smallest expansion\n",
    "exp1, cut1 = fiedler(G, ordering=fiedlers_ordering)\n",
    "print(\"Spectral ordering. Expansion: \" + str(exp1) + \"     Cut size: \" + str(len(cut1)))\n",
    "exp2, cut2 = fiedler(G, ordering=neighbour_ordering)\n",
    "print(\"Neighbour ordering. Expansion: \" + str(exp2) + \"     Cut size: \" + str(len(cut2)))\n",
    "exp3, cut3 = fiedler(G, ordering=greedy_ordering)\n",
    "print(\"Greedy ordering. Expansion: \" + str(exp3) + \"      Cut size: \" + str(len(cut3)))\n"
   ]
  },
  {
   "cell_type": "markdown",
   "metadata": {},
   "source": [
    "We run this to produce a comparison table. We use 3 repetitions (starting curves) for neighbour and greedy orderings, and take the average."
   ]
  },
  {
   "cell_type": "code",
   "execution_count": 7,
   "metadata": {},
   "outputs": [
    {
     "name": "stdout",
     "output_type": "stream",
     "text": [
      "\n",
      "(419, [3])\n",
      "Fiedler: 0.5972222222222222\n",
      "Neighbour: 0.31895424836601305\n",
      "Greedy: 0.22487745098039214\n",
      "\n",
      "(419, [2, 3])\n",
      "Fiedler: 0.4523809523809524\n",
      "Neighbour: 0.28908128908128905\n",
      "Greedy: 0.28571428571428575\n",
      "\n",
      "(419, [2, 3, 5, 7, 11])\n",
      "Fiedler: 0.4882154882154882\n",
      "Neighbour: 0.49102132435465773\n",
      "Greedy: 0.4126889813164323\n",
      "\n",
      "(5569, [3])\n",
      "Fiedler: 0.49353448275862066\n",
      "Neighbour: 0.3007134149375529\n",
      "Greedy: 0.17816091954022992\n"
     ]
    },
    {
     "name": "stdout",
     "output_type": "stream",
     "text": [
      "\n",
      "(5569, [2, 3])\n",
      "Fiedler: 0.4839901477832512\n",
      "Neighbour: 0.32215007215007213\n",
      "Greedy: 0.19518455058185194\n",
      "\n",
      "(5569, [2, 3, 5, 7, 11])\n",
      "Fiedler: 0.49738766980146293\n",
      "Neighbour: 0.47300592128178326\n",
      "Greedy: 0.34308603274120514\n"
     ]
    },
    {
     "name": "stdout",
     "output_type": "stream",
     "text": [
      "\n",
      "(10007, [3])\n",
      "Fiedler: 0.4885817307692308\n",
      "Neighbour: 0.28702724567334087\n",
      "Greedy: 0.16966426858513187\n"
     ]
    }
   ],
   "source": [
    "param_sets = [\n",
    "    # prime,  L\n",
    "    (419,   [3]),\n",
    "    (419,   [2,3]),\n",
    "    (419, [2,3,5,7,11]),\n",
    "    (5569, [3]),\n",
    "    (5569, [2,3]),\n",
    "    (5569, [2,3,5,7,11]),\n",
    "    (10007, [3])\n",
    "]\n",
    "\n",
    "repetitions = 3\n",
    "\n",
    "for param_set in param_sets:\n",
    "    p, L = param_set\n",
    "    G = get_L_graph(p, L)\n",
    "\n",
    "    fiedlers_expansion = fiedler(G, use_numpy_over_sage=True)[0]\n",
    "\n",
    "    neighbour_expansions = []\n",
    "    greedy_expansions = []\n",
    "    for r in range(0, repetitions):\n",
    "        start_vertex = G.vertices()[randrange(0, len(G.vertices()))]\n",
    "        neighbour_expansions.append(fiedler(G, ordering=get_neighbour_ordering(G, [start_vertex]))[0])\n",
    "        greedy_expansions.append(fiedler(G, ordering=get_greedy_ordering(G, [start_vertex]))[0])\n",
    "    avg_neighbour = sum(neighbour_expansions) / repetitions\n",
    "    avg_greedy = sum(greedy_expansions) / repetitions\n",
    "\n",
    "    print(\"\")\n",
    "    print((p, L))\n",
    "    print(\"Fiedler: \" + str(fiedlers_expansion))\n",
    "    print(\"Neighbour: \" + str(avg_neighbour))\n",
    "    print(\"Greedy: \" + str(avg_greedy))"
   ]
  }
 ],
 "metadata": {
  "kernelspec": {
   "display_name": "SageMath 10.3.beta8",
   "language": "sage",
   "name": "sagemath"
  },
  "language_info": {
   "codemirror_mode": {
    "name": "ipython",
    "version": 3
   },
   "file_extension": ".py",
   "mimetype": "text/x-python",
   "name": "python",
   "nbconvert_exporter": "python",
   "pygments_lexer": "ipython3",
   "version": "3.10.6"
  }
 },
 "nbformat": 4,
 "nbformat_minor": 2
}
