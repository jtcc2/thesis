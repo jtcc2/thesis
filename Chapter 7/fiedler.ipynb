{
 "cells": [
  {
   "cell_type": "code",
   "execution_count": 8,
   "metadata": {
    "vscode": {
     "languageId": "python"
    }
   },
   "outputs": [
    {
     "name": "stdout",
     "output_type": "stream",
     "text": [
      "Graph on 36 vertices and 252 edges.\n",
      "Second largest eigenvalue: 11.172240022640950?\n",
      "Fiedler vector (first 10 entries):\n",
      "[1.0, 0.1746998625382865, 0.03399357970293326, 0.09582971918469063, -1.6539794293125492, -0.16983484813517613, -0.3130143089536399, 0.038832693624163986, -0.513019312222551, -0.27373466156792625]\n",
      "\n",
      "Minimial edge expansion: 0.4603174603174603\n",
      "Size of resulting cut: 18\n"
     ]
    }
   ],
   "source": [
    "load(\"utils.sage\")\n",
    "\n",
    "# Pick parameters\n",
    "p = 419\n",
    "L = [2,3]\n",
    "\n",
    "# Get L isogeny graph\n",
    "G = get_L_graph(p, L)\n",
    "print(\"Graph on \" + str(len(G.vertices())) + \" vertices and \" + str(len(G.edges())) + \" edges.\")\n",
    "\n",
    "# Get Laplacian matrix\n",
    "L = G.laplacian_matrix()\n",
    "\n",
    "# Get eigenvalues/vectors\n",
    "#     Sage has a method     - sometimes slower, but more accurate result\n",
    "#     Numpy performs better - sometimes faster, but less accurate results  (i.e. vertices might be ordered slightly differently in sweep cuts)\n",
    "use_numpy_over_sage = False\n",
    "if use_numpy_over_sage:\n",
    "    import numpy as np\n",
    "    from numpy.linalg import eig\n",
    "    a = np.array(L.rows())\n",
    "    w,v=eig(a)\n",
    "    es = list(zip(w, v))\n",
    "else:\n",
    "    es_nonflat = L.eigenvectors_right()\n",
    "    es = []\n",
    "    for e in es_nonflat:\n",
    "        for vec in e[1]:\n",
    "            es.append((e[0], vec))\n",
    "# es is now a list of tuples [(eigenvalue, eigenvector), (eigenvalue, eigenvector), ...]\n",
    "\n",
    "# Sort to find the 2nd largest eigenvalue, and its eigenvector, the fiedler vector\n",
    "def first_entry(e):\n",
    "    return e[0]\n",
    "es.sort(key=first_entry, reverse=True)\n",
    "lambda2 = es[1][0]\n",
    "fiedler_vector = list(es[1][1])\n",
    "print(\"Second largest eigenvalue: \" + str(lambda2))\n",
    "print(\"Fiedler vector (first 10 entries):\")\n",
    "print([float(v) for v in fiedler_vector[:10]])\n",
    "\n",
    "# Order vertices by their eigenvector entry\n",
    "vs_and_es = list(zip(fiedler_vector, G.vertices()))    # list of tuples [(eigenvector_entry, vertex_label), (eigenvector_entry, vertex_label), ...]\n",
    "vs_and_es.sort(key=first_entry, reverse=True)\n",
    "\n",
    "# Iterate over sweep cuts\n",
    "best_cut_so_far = None\n",
    "best_edge_expansion_so_far = None\n",
    "for i in range(1, len(G.vertices())):\n",
    "    Ci = [v[1] for v in vs_and_es[:i]]\n",
    "    Ci_comp = vertex_complement(G, Ci)\n",
    "    # Find sweep cut with minimal edge expansion, or more precisely  max( h(C_i) ,  h(V not C_i) )\n",
    "    Ci_expansion = edge_expansion(G, Ci)\n",
    "    Ci_comp_expansion = edge_expansion(G, Ci_comp)\n",
    "    exp_max = max(Ci_expansion, Ci_comp_expansion)\n",
    "    if best_edge_expansion_so_far == None or exp_max < best_edge_expansion_so_far:\n",
    "        best_edge_expansion_so_far = exp_max\n",
    "        best_cut_so_far = Ci\n",
    "\n",
    "print(\"\")\n",
    "print(\"Minimial edge expansion: \" + str(best_edge_expansion_so_far))\n",
    "print(\"Size of resulting cut: \" + str(len(best_cut_so_far)))"
   ]
  },
  {
   "cell_type": "markdown",
   "metadata": {},
   "source": [
    "We've combined this into a single function for convenience."
   ]
  },
  {
   "cell_type": "code",
   "execution_count": 11,
   "metadata": {
    "vscode": {
     "languageId": "python"
    }
   },
   "outputs": [
    {
     "data": {
      "text/plain": [
       "0.4603174603174603"
      ]
     },
     "execution_count": 11,
     "metadata": {},
     "output_type": "execute_result"
    }
   ],
   "source": [
    "expansion, cut = fiedler(G, use_numpy_over_sage=False)\n",
    "expansion"
   ]
  }
 ],
 "metadata": {
  "kernelspec": {
   "display_name": "SageMath 10.3.beta8",
   "language": "sage",
   "name": "sagemath"
  },
  "language_info": {
   "codemirror_mode": {
    "name": "ipython",
    "version": 3
   },
   "file_extension": ".py",
   "mimetype": "text/x-python",
   "name": "sage",
   "nbconvert_exporter": "python",
   "pygments_lexer": "ipython3",
   "version": "3.10.6"
  }
 },
 "nbformat": 4,
 "nbformat_minor": 2
}
