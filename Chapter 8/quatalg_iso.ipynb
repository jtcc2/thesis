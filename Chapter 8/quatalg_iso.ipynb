{
 "cells": [
  {
   "cell_type": "markdown",
   "metadata": {},
   "source": [
    "Algorithm for quaternion algebra isomorphism"
   ]
  },
  {
   "cell_type": "code",
   "execution_count": 1,
   "metadata": {},
   "outputs": [],
   "source": [
    "def isomorphism_same_j(B1, B2):\n",
    "    \"\"\"\n",
    "    Defines an isomorphism of quaternion algebras,\n",
    "    see Lemma 10 of \"Deuring for the People: Supersingular Elliptic Curves with Prescribed Endomorphism Ring in General Characteristic\".\n",
    "    \"\"\"\n",
    "    if B1 == B2:\n",
    "        return B2(1), B2(1)\n",
    "    i1, _, _ = B1.gens()\n",
    "    i2, j2, _ = B2.gens()\n",
    "    B1_q, B1_p = B1.invariants()\n",
    "    B2_q, _ = B2.invariants()\n",
    "    r = B1_q/B2_q\n",
    "    rnew = numerator(r).squarefree_part() / denominator(r).squarefree_part()\n",
    "    rt = sqrt(r / rnew)\n",
    "    bqf = DiagonalQuadraticForm(QQ, [1, -B1_p])\n",
    "    x, y = bqf.solve(rnew)\n",
    "    x, y = x*rt, y*rt\n",
    "    gamma = x + j2*y\n",
    "    new_i = i2 * gamma\n",
    "    new_j = j2\n",
    "    new_k = new_i * new_j\n",
    "    iso = B1.hom([new_i, new_j, new_k], B2, check=False)\n",
    "    return iso\n",
    "\n",
    "def change_a(B, gamma):\n",
    "    \"\"\"\n",
    "    Result of Albert that given isomorphic (a1, b1) (gamma, b2) we can find isomorphism between (a1, b1) and (gamma, delta) for some rational delta\n",
    "    \"\"\"\n",
    "    alpha, beta = B.invariants()\n",
    "    prod = alpha * beta\n",
    "    zeta1, zeta2, zeta3 = DiagonalQuadraticForm(QQ, [alpha, beta, -prod]).solve(gamma)\n",
    "\n",
    "    a_new = -prod*(zeta2^2 - zeta3^2 * alpha)\n",
    "    b_new = gamma\n",
    "    Bnew = QuaternionAlgebra(a_new, b_new)\n",
    "\n",
    "    i, j, k = B.gens()\n",
    "    new_j = zeta1*i + zeta2*j + zeta3*k\n",
    "    new_i = alpha*zeta3*j + zeta2*k\n",
    "    new_k = new_i * new_j\n",
    "\n",
    "    iso = Bnew.hom([new_i, new_j, new_k], B, check=False)\n",
    "    return iso\n",
    "\n",
    "def quaternion_algebra_isomorphism(B1, B2):\n",
    "    \"\"\"\n",
    "    Combines the above do to isomorphism\n",
    "    \"\"\"\n",
    "    _, gamma = B1.invariants()\n",
    "    iso2 = change_a(B2, gamma)\n",
    "    Bnew = iso2.domain()\n",
    "    iso1 = isomorphism_same_j(B1, Bnew)\n",
    "    iso = iso1.post_compose(iso2)\n",
    "    return iso"
   ]
  },
  {
   "cell_type": "markdown",
   "metadata": {},
   "source": [
    "Testing on a small example"
   ]
  },
  {
   "cell_type": "code",
   "execution_count": 2,
   "metadata": {},
   "outputs": [],
   "source": [
    "B1 = QuaternionAlgebra(-46, -87)\n",
    "B2 = QuaternionAlgebra(-58, -69)\n",
    "\n",
    "iso = quaternion_algebra_isomorphism(B1, B2)\n",
    "\n",
    "# Check that the isomorphism preserves norms and traces\n",
    "elt = B1.random_element()\n",
    "elt2 = iso(elt)\n",
    "assert(elt2 in B2)\n",
    "assert(elt.reduced_norm() == elt2.reduced_norm())\n",
    "assert(elt.reduced_trace() == elt2.reduced_trace())"
   ]
  },
  {
   "cell_type": "markdown",
   "metadata": {},
   "source": [
    "For testing one may use the following function to generate pairs of isomorphic quaternion algebras."
   ]
  },
  {
   "cell_type": "code",
   "execution_count": 5,
   "metadata": {},
   "outputs": [
    {
     "data": {
      "text/plain": [
       "(Quaternion Algebra (-616005999200080235630071, -508645447705892759946395) with base ring Rational Field,\n",
       " Quaternion Algebra (-244770367688411513894929, -14309901468726762131) with base ring Rational Field)"
      ]
     },
     "execution_count": 5,
     "metadata": {},
     "output_type": "execute_result"
    }
   ],
   "source": [
    "def random_subset(arr):\n",
    "    \"\"\"Returns random subset of given array\"\"\"\n",
    "    return [a for a in arr if randrange(0, 2) == 0]\n",
    "\n",
    "def find_interesting_large_isomorphic_quaternion_algebras(pos_def=False):\n",
    "    \"\"\"\n",
    "    Returns a pair of large isomorphic quaternion algebras where the isomorphism is unlikely to be immediatley obvious.\n",
    "    May have to run it a few times to ensure they are actually large.\n",
    "    \"\"\"\n",
    "    while True:\n",
    "        s1, s2 = -1, -1\n",
    "        if not pos_def:\n",
    "            s1, s2 = [1, -1][randrange(0, 2)], [1, -1][randrange(0, 2)]\n",
    "        a1 = s1 * randrange(2^40, 2^80)\n",
    "        b1 = s2 * randrange(2^40, 2^80)\n",
    "        if a1.is_prime():\n",
    "            continue\n",
    "        if b1.is_prime():\n",
    "            continue\n",
    "        B = QuaternionAlgebra(a1, b1)\n",
    "        rps = B.ramified_primes()\n",
    "        a2set = random_subset(rps)\n",
    "        s3, s4 = -1, -1\n",
    "        if not pos_def:\n",
    "            s3, s4 = [1, -1][randrange(0, 2)], [1, -1][randrange(0, 2)]\n",
    "        a2 = s3 * product(a2set)\n",
    "        b2 = s4 * product([a for a in rps if a not in a2set])\n",
    "        B2 = QuaternionAlgebra(a2, b2)\n",
    "        if B.is_isomorphic(B2):\n",
    "            return (B, B2)\n",
    "\n",
    "find_interesting_large_isomorphic_quaternion_algebras(pos_def=True)"
   ]
  }
 ],
 "metadata": {
  "kernelspec": {
   "display_name": "SageMath 10.3.beta8",
   "language": "sage",
   "name": "sagemath"
  },
  "language_info": {
   "codemirror_mode": {
    "name": "ipython",
    "version": 3
   },
   "file_extension": ".py",
   "mimetype": "text/x-python",
   "name": "python",
   "nbconvert_exporter": "python",
   "pygments_lexer": "ipython3",
   "version": "3.10.6"
  }
 },
 "nbformat": 4,
 "nbformat_minor": 2
}
